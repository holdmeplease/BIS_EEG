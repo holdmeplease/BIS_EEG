{
 "cells": [
  {
   "cell_type": "code",
   "execution_count": null,
   "metadata": {},
   "outputs": [],
   "source": [
    "import mne\n",
    "from datetime import datetime\n",
    "\n",
    "from bis_lib import *\n",
    "from bis_lib_feature import *\n",
    "from bis_lib_noise import get_noise_idx"
   ]
  },
  {
   "cell_type": "code",
   "execution_count": null,
   "metadata": {},
   "outputs": [],
   "source": [
    "noise_idx_all = get_noise_idx()"
   ]
  },
  {
   "cell_type": "code",
   "execution_count": null,
   "metadata": {},
   "outputs": [],
   "source": [
    "print(noise_idx_all.keys())"
   ]
  },
  {
   "cell_type": "code",
   "execution_count": null,
   "metadata": {},
   "outputs": [],
   "source": [
    "data_info = {}\n",
    "draw_c_nc = {}\n",
    "xy_learning = {}\n",
    "feature_cal = True\n",
    "fs = 1000\n",
    "seg_length = 5\n",
    "exp_dates = ['0428', '0516', '0517', '0518', '0519', '0523', '0524', '0525', '0526']\n",
    "\n",
    "# for exp_date in exp_dates:\n",
    "for exp_date in ['0526']:\n",
    "    path_root = '/Users/zhangchao/Downloads/data_tmp/{}'.format(exp_date)\n",
    "    exp = get_exp(path_root, exp_date)\n",
    "    eeg_start_time, eeg_end_time = get_eeg_time(path_root, exp)\n",
    "    csv_path = '../csv_files/{}'.format(exp_date)\n",
    "    # for i in range(len(exp)):\n",
    "    for i in range(2,3):\n",
    "        eeg = csv2eeg(path_root, exp[i])\n",
    "        print('eeg.shape', eeg.shape)\n",
    "        print('duration(s):', eeg.shape[1]/fs)\n",
    "        data_info['exp{}_duration'.format(i)] = eeg.shape[1]/fs\n",
    "        tmp = datetime.strptime(eeg_end_time[i], '%Y-%m-%d %H:%M:%S') - datetime.strptime(eeg_start_time[i], '%Y-%m-%d %H:%M:%S')\n",
    "        data_info['exp{}_pack_loss'.format(i)] = tmp.seconds - eeg.shape[1]/fs\n",
    "\n",
    "        ch_num = eeg.shape[0]\n",
    "        # for mne object\n",
    "        ch_names = ['EEG{}'.format(j) for j in range(ch_num)]\n",
    "        ch_types = ['eeg' for i in range(ch_num)]\n",
    "        info = mne.create_info(ch_names, ch_types=ch_types, sfreq=fs)\n",
    "        print(info)\n",
    "\n",
    "        data_info['exp{}_chnum'.format(i)] = eeg.shape[0]\n",
    "        data_info['exp{}_filename'.format(i)] = exp[i]\n",
    "\n",
    "        my_raw = mne.io.RawArray(eeg, info)\n",
    "        my_raw.filter(l_freq=0.5, h_freq=30)\n",
    "        # draw_eeg_psd(my_raw, ch_names, exp[i])\n",
    "\n",
    "        if exp_date in ['0523', '0524', '0525', '0526']:\n",
    "            xls_info = process_xls_new(csv_path, exp_id=i, eeg_start_time=eeg_start_time, eeg_end_time=eeg_end_time)\n",
    "        else:\n",
    "            xls_info = process_xls(csv_path, exp_id=i, eeg_start_time=eeg_start_time, eeg_end_time=eeg_end_time)\n",
    "            \n",
    "        eeg_data = eeg_segment(my_raw[:][0], fs, seg_length=seg_length, eeg_start_time=eeg_start_time[i])\n",
    "        eeg_data_tmp = eeg_segment(my_raw[:][0], fs, seg_length=15, eeg_start_time=eeg_start_time[i])\n",
    "\n",
    "        # eeg_feature_dict = {}\n",
    "        if feature_cal:\n",
    "            pe = get_pe_clean(eeg_data, seg_length, noise_idx_all['{}_{}'.format(exp_date, i+1)])\n",
    "            lzc = get_lzc_clean(eeg_data, seg_length, noise_idx_all['{}_{}'.format(exp_date, i+1)])\n",
    "            svd = get_svd_clean(eeg_data_tmp, 15, noise_idx_all['{}_{}'.format(exp_date, i+1)], fs)\n",
    "            # pe = get_pe(eeg_data)\n",
    "            # se = get_se(eeg_data)\n",
    "            # lzc = get_lzc(eeg_data)\n",
    "            # svd = get_conn_svd(eeg_data, fs)\n",
    "            # bism_pe = get_bism_pe(eeg_data, seg_length)\n",
    "            \n",
    "        else:\n",
    "            pe = np.load('../npy_files/feature_clean/PE_{}_{}.npy'.format(exp_date, exp[i]))\n",
    "            # se = np.load('../npy_files/feature_clean/SE_{}_{}.npy'.format(exp_date, exp[i]))\n",
    "            lzc = np.load('../npy_files/feature_clean/LZC_{}_{}.npy'.format(exp_date, exp[i]))\n",
    "            svd = np.load('../npy_files/feature_clean/SVD_{}_{}.npy'.format(exp_date, exp[i]))\n",
    "\n",
    "        # eeg_feature_dict['PE'] = np.mean(pe, axis=1)\n",
    "        # # eeg_feature_dict['SE'] = se\n",
    "        # eeg_feature_dict['LZC'] = np.mean(lzc, axis=1)\n",
    "        # eeg_feature_dict['SVD_0'] = svd[0,:]\n",
    "        # eeg_feature_dict['SVD_1'] = svd[1,:]\n",
    "        # eeg_feature_dict['SVD_2'] = svd[2,:]\n",
    "        # eeg_feature_dict['SVD_3'] = svd[3,:]\n",
    "        \n",
    "        # if feature_cal:\n",
    "        #     np.save('../npy_files/feature_clean/PE_{}_{}.npy'.format(exp_date, exp[i]), pe)\n",
    "        #     # np.save('../npy_files/SE_{}_{}.npy'.format(exp_date, exp[i]), se)\n",
    "        #     np.save('../npy_files/feature_clean/LZC_{}_{}.npy'.format(exp_date, exp[i]), lzc)\n",
    "        #     np.save('../npy_files/feature_clean/SVD_{}_{}.npy'.format(exp_date, exp[i]), svd)\n",
    "\n",
    "        # draw_results(exp_date, exp[i], xls_info, eeg_feature_dict)"
   ]
  },
  {
   "cell_type": "code",
   "execution_count": null,
   "metadata": {},
   "outputs": [],
   "source": []
  }
 ],
 "metadata": {
  "kernelspec": {
   "display_name": "py39",
   "language": "python",
   "name": "python3"
  },
  "language_info": {
   "codemirror_mode": {
    "name": "ipython",
    "version": 3
   },
   "file_extension": ".py",
   "mimetype": "text/x-python",
   "name": "python",
   "nbconvert_exporter": "python",
   "pygments_lexer": "ipython3",
   "version": "3.9.6"
  },
  "orig_nbformat": 4
 },
 "nbformat": 4,
 "nbformat_minor": 2
}
